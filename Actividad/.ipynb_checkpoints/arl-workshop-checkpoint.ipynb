{
 "cells": [
  {
   "cell_type": "markdown",
   "metadata": {},
   "source": [
    "# Association Rule Learning Con Algoritmo Apriori\n",
    "#### Carlos Paredes Robles\n",
    "##### cparedesr@uc.cl"
   ]
  },
  {
   "cell_type": "markdown",
   "metadata": {},
   "source": [
    "ARL es una tecnica de Machine Learning para identificar relaciones de eventos, y posteriormente utilizarlas en contextos de recomendacion o analisis. \n",
    "Supongase el caso de un supermercado, donde por cada cliente existe una lista de compra, nuestro algoritmo ha de ser capaz de reconocer la relacion de que productos se compran juntos, luego con esa data se pueden realizar optimizaciones respecto a la organizacion del supermercado\n",
    "\n",
    "un ejemplo mas claro es el siguiente  \n",
    "\n",
    "<div>\n",
    "<img src=\"https://cdn.business2community.com/wp-content/uploads/2019/09/amazonfrequently-bought-together.png\" width=\"500\"/>\n",
    "</div>\n",
    "\n",
    "donde se hacen recomendaciones de compra segun los productos que se compran en conjunto."
   ]
  },
  {
   "attachments": {},
   "cell_type": "markdown",
   "metadata": {},
   "source": [
    "### Teoria\n",
    "\n",
    "El algoritmo permite descubrir relaciones entre eventos de alguna base de datos mediante diferentes reglas, en particular aplicaremos la regla “apriori”\n",
    "Apriori se basa en el análisis de 3 relaciones\n",
    "\n",
    "**Support**: Probabilidad de que ocurra el evento $A$.\n",
    "$$\\frac{\\# evento A}{\\# eventos \\  totales}$$\n",
    "\n",
    "**Confidence**:Probabilidad que ocurra $B$, dado $A$.\n",
    "$$\\frac{\\# evento A \\land B}{\\# evento A}$$\n",
    "\n",
    "**Lift** : Cuanto aumenta la popularidad de $B$ gracias a $A$.\n",
    "$$\\frac{Confidence(A\\rightarrow B)}{Support(B)}$$\n",
    "\n",
    "Luego se calculan todos los soportes, confianzas y lift entre los datos, para evitar muchos calculos, se determinan umbrales minimos para cada una de las variables, *(puede que un producto se compre muy poco y por lo tanto a priori se que no existen relaciones claras)*"
   ]
  },
  {
   "cell_type": "markdown",
   "metadata": {},
   "source": [
    "### Codigo\n",
    "\n",
    "Al igual que muchas cosas en machine learning con python, este algoritmo esta en gran parte implentado en diversas librerias, una de las mas utilizadas siendo *apyori*, (se puede tambien utilizar scikit-learn para mayor eficiencia) y debido a que la implementacion es muy muy rapida"
   ]
  },
  {
   "cell_type": "code",
   "execution_count": 2,
   "metadata": {},
   "outputs": [],
   "source": [
    "# Importamos las librerias a usar\n",
    "from apyori import apriori\n",
    "import numpy as np\n",
    "import matplotlib.pyplot as plt\n",
    "import pandas as pd"
   ]
  },
  {
   "cell_type": "code",
   "execution_count": null,
   "metadata": {},
   "outputs": [],
   "source": [
    "# con pandas cargamos el dataset como dataframe\n",
    "\n",
    "df = pd.read_csv('./data/store.csv')"
   ]
  }
 ],
 "metadata": {
  "kernelspec": {
   "display_name": "Python 3",
   "language": "python",
   "name": "python3"
  },
  "language_info": {
   "codemirror_mode": {
    "name": "ipython",
    "version": 3
   },
   "file_extension": ".py",
   "mimetype": "text/x-python",
   "name": "python",
   "nbconvert_exporter": "python",
   "pygments_lexer": "ipython3",
   "version": "3.8.5"
  }
 },
 "nbformat": 4,
 "nbformat_minor": 1
}
