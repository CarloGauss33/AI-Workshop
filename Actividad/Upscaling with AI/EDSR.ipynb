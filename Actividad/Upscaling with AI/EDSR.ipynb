{
 "cells": [
  {
   "cell_type": "markdown",
   "metadata": {},
   "source": [
    "# Escalado de imagenes utilizando IA\n",
    "\n",
    "En esta parte del taller utilizaremos el modelo EDSR(2017) (Enhanced Deep Residual Networks for Single Image Super-Resolution) para reescalar imagenes ([ver paper aqui](https://arxiv.org/abs/1707.02921)) (Bee Lim, Sanghyun Son, Heewon Kim, Seungjun Nah, Kyoung Mu Lee)\n",
    "\n",
    "El modelo se fundamenta en redes neuronales convolucionales utilizando la siguiente arquitect>ura\n",
    "\n",
    "<img src=\"architecture.jpg\">"
   ]
  },
  {
   "cell_type": "markdown",
   "metadata": {},
   "source": [
    "Para la implementacion, y continuando con el objetivo de presentar el Machine Learning de la forma mas simple y practica posible, utilizaremos un modelo preentrenado ubicado en el repositorio [EDSR_Tensorflow](https://github.com/Saafke/EDSR_Tensorflow)."
   ]
  },
  {
   "cell_type": "code",
   "execution_count": 16,
   "metadata": {},
   "outputs": [],
   "source": [
    "import cv2\n",
    "from cv2 import dnn_superres"
   ]
  },
  {
   "cell_type": "code",
   "execution_count": 17,
   "metadata": {},
   "outputs": [],
   "source": [
    "model_path = \"EDSR_x3.pb\""
   ]
  },
  {
   "cell_type": "code",
   "execution_count": 18,
   "metadata": {},
   "outputs": [],
   "source": [
    "# Creamos el objeto del modelo para implementar la super resolucion\n",
    "\n",
    "model = dnn_superres.DnnSuperResImpl_create()\n",
    "\n",
    "# Leemos la imagen\n",
    "image = cv2.imread('./original.png')\n",
    "\n",
    "# Cargamos el modelo preentrenado\n",
    "model.readModel(model_path)"
   ]
  },
  {
   "cell_type": "markdown",
   "metadata": {},
   "source": [
    "Ahora hemos de definir el modelo y la cantidad de scaling que deseamos, en este caso 3"
   ]
  },
  {
   "cell_type": "code",
   "execution_count": 19,
   "metadata": {},
   "outputs": [],
   "source": [
    "model.setModel(\"edsr\", 3)\n",
    "\n",
    "\n",
    "model.setPreferableBackend(cv2.dnn.DNN_BACKEND_CUDA)\n",
    "model.setPreferableTarget(cv2.dnn.DNN_TARGET_CUDA)"
   ]
  },
  {
   "cell_type": "markdown",
   "metadata": {},
   "source": [
    "Escalamos la imagen y observamos el resultado"
   ]
  },
  {
   "cell_type": "code",
   "execution_count": null,
   "metadata": {},
   "outputs": [],
   "source": [
    "# Upscale the image\n",
    "result = model.upsample(image)\n",
    "\n",
    "# Save the image\n",
    "cv2.imwrite(\"./upscaled.png\", result)"
   ]
  },
  {
   "cell_type": "code",
   "execution_count": null,
   "metadata": {},
   "outputs": [],
   "source": []
  }
 ],
 "metadata": {
  "kernelspec": {
   "display_name": "Python 3",
   "language": "python",
   "name": "python3"
  },
  "language_info": {
   "codemirror_mode": {
    "name": "ipython",
    "version": 3
   },
   "file_extension": ".py",
   "mimetype": "text/x-python",
   "name": "python",
   "nbconvert_exporter": "python",
   "pygments_lexer": "ipython3",
   "version": "3.7.9"
  }
 },
 "nbformat": 4,
 "nbformat_minor": 4
}
